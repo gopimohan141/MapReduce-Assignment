{
 "cells": [
  {
   "cell_type": "code",
   "execution_count": 5,
   "id": "13466c7e-ddea-4bea-b122-596669ac87ee",
   "metadata": {},
   "outputs": [
    {
     "name": "stdout",
     "output_type": "stream",
     "text": [
      "Book chosen: 5\n",
      "Book 5 main story starts at page: 1570\n",
      "file1 starts at: 1585\n",
      "file2 starts at: 1670\n"
     ]
    }
   ],
   "source": [
    "# DOB: 2000-05-15\n",
    "\n",
    "from PyPDF2 import PdfReader\n",
    "\n",
    "pdf = r\"C:\\Users\\gopim\\OneDrive\\Desktop\\MapRed\\harrypotter.pdf\"\n",
    "\n",
    "# date of birth\n",
    "month = 5\n",
    "day = 15\n",
    "year = 2000\n",
    "\n",
    "# choose book\n",
    "if month <= 7:\n",
    "    book_num = month\n",
    "else:\n",
    "    book_num = (month + 1) // 2\n",
    "\n",
    "# Book 5 start page in combined PDF\n",
    "book5_start = 1570\n",
    "\n",
    "# pages inside book\n",
    "page1 = book5_start + day - 1\n",
    "page2 = book5_start + (100 + year % 100) - 1\n",
    "\n",
    "reader = PdfReader(pdf)\n",
    "\n",
    "# extracting 10 pages from a given start\n",
    "def extract_text(start_page):\n",
    "    text = \"\"\n",
    "    end = min(len(reader.pages), start_page + 10)\n",
    "    for i in range(start_page, end):\n",
    "        text += reader.pages[i].extract_text() or \"\"\n",
    "    return text\n",
    "\n",
    "text1 = extract_text(page1)\n",
    "text2 = extract_text(page2)\n",
    "\n",
    "open(r\"C:\\Users\\gopim\\OneDrive\\Desktop\\MapRed\\file1.txt\", \"w\", encoding=\"utf-8\").write(text1)\n",
    "open(r\"C:\\Users\\gopim\\OneDrive\\Desktop\\MapRed\\file2.txt\", \"w\", encoding=\"utf-8\").write(text2)\n",
    "\n",
    "print(\"Book chosen:\", book_num)\n",
    "print(\"Book 5 main story starts at page:\", book5_start)\n",
    "print(\"file1 starts at:\", page1 + 1)\n",
    "print(\"file2 starts at:\", page2 + 1)"
   ]
  },
  {
   "cell_type": "code",
   "execution_count": null,
   "id": "d7d08047-4621-4e65-8713-05bf043b3747",
   "metadata": {},
   "outputs": [],
   "source": []
  }
 ],
 "metadata": {
  "kernelspec": {
   "display_name": "Python [conda env:base] *",
   "language": "python",
   "name": "conda-base-py"
  },
  "language_info": {
   "codemirror_mode": {
    "name": "ipython",
    "version": 3
   },
   "file_extension": ".py",
   "mimetype": "text/x-python",
   "name": "python",
   "nbconvert_exporter": "python",
   "pygments_lexer": "ipython3",
   "version": "3.12.7"
  }
 },
 "nbformat": 4,
 "nbformat_minor": 5
}
